{
 "cells": [
  {
   "cell_type": "markdown",
   "id": "0da8cb91-d4f4-47ea-98c3-72724e9c7e4a",
   "metadata": {},
   "source": [
    "#### Imports:"
   ]
  },
  {
   "cell_type": "code",
   "execution_count": 1,
   "id": "1f9ca064-d340-4df9-bcb2-10dffc021e21",
   "metadata": {},
   "outputs": [],
   "source": [
    "import json\n",
    "from typing import Any\n",
    "from azure.ai.formrecognizer import DocumentAnalysisClient\n",
    "from azure.core.credentials import AzureKeyCredential\n",
    "from dotenv import load_dotenv\n",
    "import os"
   ]
  },
  {
   "cell_type": "markdown",
   "id": "af854ce7-64ef-4415-99f8-52611d344327",
   "metadata": {},
   "source": [
    "#### Load credentials:"
   ]
  },
  {
   "cell_type": "code",
   "execution_count": 2,
   "id": "da6c5665-8ab9-4ba6-a9fa-7680c445275b",
   "metadata": {},
   "outputs": [],
   "source": [
    "# Load environment variables from the .env file\n",
    "load_dotenv(\"credentials.env\")\n",
    "\n",
    "# Get credentials from environment variables\n",
    "endpoint = os.getenv(\"FORM_RECOGNIZER_ENDPOINT\")\n",
    "key = os.getenv(\"FORM_RECOGNIZER_KEY\")"
   ]
  },
  {
   "cell_type": "markdown",
   "id": "5b950786-85e4-48b2-9acb-bf7e05a676a9",
   "metadata": {},
   "source": [
    "#### Methods for extracting text, tables, structure of pdf and save as .json:"
   ]
  },
  {
   "cell_type": "code",
   "execution_count": 3,
   "id": "6e2f5363-adc6-4334-94f6-0142058e6631",
   "metadata": {},
   "outputs": [],
   "source": [
    "def extract_text(result: Any) -> list:\n",
    "    \"\"\"\n",
    "    Extracts text contents from the analysis result.\n",
    "\n",
    "    @param result: The analysis result object from the Azure Form Recognizer.\n",
    "    @type result: Any\n",
    "    \n",
    "    @return: A list containing the text contents.\n",
    "    @rtype: list\n",
    "    \"\"\"\n",
    "    texts = []\n",
    "    for page in result.pages:\n",
    "        for line in page.lines:\n",
    "            texts.append(line.content)\n",
    "    return texts\n",
    "\n",
    "\n",
    "def extract_structure(result: Any) -> list:\n",
    "    \"\"\"\n",
    "    Extracts structural elements from the analysis result.\n",
    "\n",
    "    @param result: The analysis result object from the Azure Form Recognizer.\n",
    "    @type result: Any\n",
    "    \n",
    "    @return: A list containing the structural elements.\n",
    "    @rtype: list\n",
    "    \"\"\"\n",
    "    structures = []\n",
    "    for page in result.pages:\n",
    "        structure_data = {\n",
    "            \"page_number\": page.page_number,\n",
    "            \"width\": page.width,\n",
    "            \"height\": page.height,\n",
    "            \"unit\": page.unit,\n",
    "            \"lines\": []\n",
    "        }\n",
    "\n",
    "        for line in page.lines:\n",
    "            line_data = {\n",
    "                \"content\": line.content,\n",
    "                \"spans\": [{\"offset\": span.offset, \"length\": span.length} for span in line.spans]\n",
    "            }\n",
    "            structure_data[\"lines\"].append(line_data)\n",
    "        \n",
    "        structures.append(structure_data)\n",
    "    return structures\n",
    "\n",
    "    \n",
    "def extract_tables(result: Any) -> list:\n",
    "    \"\"\"\n",
    "    Extracts table contents from the analysis result.\n",
    "\n",
    "    @param result: The analysis result object from the Azure Form Recognizer.\n",
    "    @type result: Any\n",
    "    \n",
    "    @return: A list containing the table contents.\n",
    "    @rtype: list\n",
    "    \"\"\"\n",
    "    tables = []\n",
    "    for table_idx, table in enumerate(result.tables):\n",
    "        table_data = {\n",
    "            \"table_index\": table_idx,\n",
    "            \"row_count\": table.row_count,\n",
    "            \"column_count\": table.column_count,\n",
    "            \"cells\": []\n",
    "        }\n",
    "\n",
    "        for cell in table.cells:\n",
    "            cell_data = {\n",
    "                \"row_index\": cell.row_index,\n",
    "                \"column_index\": cell.column_index,\n",
    "                \"content\": cell.content,\n",
    "                \"bounding_regions\": [{\"page_number\": region.page_number, \"polygon\": [point for point in region.polygon]} for region in cell.bounding_regions]\n",
    "            }\n",
    "            table_data[\"cells\"].append(cell_data)\n",
    "\n",
    "        tables.append(table_data)\n",
    "    return tables\n",
    "\n",
    "\n",
    "def save_json(data: Any, filename: str) -> None:\n",
    "    \"\"\"\n",
    "    Saves the provided data as a JSON file.\n",
    "\n",
    "    @param data: The data to save.\n",
    "    @type data: Any\n",
    "    \n",
    "    @param filename: The name of the file to save the data to.\n",
    "    @type filename: str\n",
    "    \"\"\"\n",
    "    with open(filename, \"w\", encoding=\"utf-8\") as f:\n",
    "        json.dump(data, f, indent=4, ensure_ascii=False)"
   ]
  },
  {
   "cell_type": "markdown",
   "id": "bc139c17-64a9-4ae0-81a4-13a127e92864",
   "metadata": {},
   "source": [
    "#### Initialize document analysis:"
   ]
  },
  {
   "cell_type": "code",
   "execution_count": 4,
   "id": "67ca35fc-7b11-4dcb-bbed-cc773bc44cc3",
   "metadata": {},
   "outputs": [],
   "source": [
    "# Initialize DocumentAnalysisClient\n",
    "document_analysis_client = DocumentAnalysisClient(endpoint=endpoint, credential=AzureKeyCredential(key))\n",
    "\n",
    "# URL of the PDF to analyze\n",
    "form_url = \"LINK TO PDF\"\n",
    "base_path = \"results/\"\n",
    "\n",
    "# Start document analysis\n",
    "poller = document_analysis_client.begin_analyze_document_from_url(\"prebuilt-layout\", form_url)\n",
    "result = poller.result()"
   ]
  },
  {
   "cell_type": "markdown",
   "id": "d9213925-9f63-4391-a4d6-2f13cad7b8ce",
   "metadata": {},
   "source": [
    "#### Call methods:"
   ]
  },
  {
   "cell_type": "code",
   "execution_count": 5,
   "id": "28074116-86c8-4a1e-a8b1-5845b08465c2",
   "metadata": {},
   "outputs": [
    {
     "name": "stdout",
     "output_type": "stream",
     "text": [
      "[{'table_index': 0, 'row_count': 13, 'column_count': 5, 'cells': [{'row_index': 0, 'column_index': 0, 'content': 'Komponente', 'bounding_regions': [{'page_number': 1, 'polygon': [Point(x=0.5043, y=4.5279), Point(x=1.9508, y=4.5279), Point(x=1.9583, y=4.7516), Point(x=0.5043, y=4.7516)]}]}, {'row_index': 0, 'column_index': 1, 'content': 'Zur Befestigung von', 'bounding_regions': [{'page_number': 1, 'polygon': [Point(x=1.9508, y=4.5279), Point(x=3.3974, y=4.5279), Point(x=3.3974, y=4.7516), Point(x=1.9583, y=4.7516)]}]}, {'row_index': 0, 'column_index': 2, 'content': 'Schraubentyp', 'bounding_regions': [{'page_number': 1, 'polygon': [Point(x=3.3974, y=4.5279), Point(x=4.8588, y=4.5279), Point(x=4.8588, y=4.7516), Point(x=3.3974, y=4.7516)]}]}, {'row_index': 0, 'column_index': 3, 'content': 'Menge', 'bounding_regions': [{'page_number': 1, 'polygon': [Point(x=4.8588, y=4.5279), Point(x=6.2829, y=4.5279), Point(x=6.2829, y=4.7516), Point(x=4.8588, y=4.7516)]}]}, {'row_index': 0, 'column_index': 4, 'content': 'Abbildung Schraube', 'bounding_regions': [{'page_number': 1, 'polygon': [Point(x=6.2829, y=4.5279), Point(x=7.7295, y=4.5279), Point(x=7.7295, y=4.7516), Point(x=6.2829, y=4.7516)]}]}, {'row_index': 1, 'column_index': 0, 'content': 'Bodenabdeckung', 'bounding_regions': [{'page_number': 1, 'polygon': [Point(x=0.5043, y=4.7516), Point(x=1.9583, y=4.7516), Point(x=1.9583, y=5.2139), Point(x=0.4969, y=5.2139)]}]}, {'row_index': 1, 'column_index': 1, 'content': 'Handballenstützen- Baugruppe', 'bounding_regions': [{'page_number': 1, 'polygon': [Point(x=1.9583, y=4.7516), Point(x=3.3974, y=4.7516), Point(x=3.3899, y=5.2139), Point(x=1.9583, y=5.2139)]}]}, {'row_index': 1, 'column_index': 2, 'content': 'M2x3 T5', 'bounding_regions': [{'page_number': 1, 'polygon': [Point(x=3.3974, y=4.7516), Point(x=4.8588, y=4.7516), Point(x=4.8588, y=5.2139), Point(x=3.3899, y=5.2139)]}]}, {'row_index': 1, 'column_index': 3, 'content': '10', 'bounding_regions': [{'page_number': 1, 'polygon': [Point(x=4.8588, y=4.7516), Point(x=6.2829, y=4.7516), Point(x=6.2829, y=5.2139), Point(x=4.8588, y=5.2139)]}]}, {'row_index': 1, 'column_index': 4, 'content': '', 'bounding_regions': [{'page_number': 1, 'polygon': [Point(x=6.2829, y=4.7516), Point(x=7.7295, y=4.7516), Point(x=7.7295, y=5.2139), Point(x=6.2829, y=5.2139)]}]}, {'row_index': 2, 'column_index': 0, 'content': 'Systememblem', 'bounding_regions': [{'page_number': 1, 'polygon': [Point(x=0.4969, y=5.2139), Point(x=1.9583, y=5.2139), Point(x=1.9583, y=6.0192), Point(x=0.4969, y=6.0192)]}]}, {'row_index': 2, 'column_index': 1, 'content': 'Handballenstützen- Baugruppe', 'bounding_regions': [{'page_number': 1, 'polygon': [Point(x=1.9583, y=5.2139), Point(x=3.3899, y=5.2139), Point(x=3.3899, y=6.0192), Point(x=1.9583, y=6.0192)]}]}, {'row_index': 2, 'column_index': 2, 'content': 'M2×8', 'bounding_regions': [{'page_number': 1, 'polygon': [Point(x=3.3899, y=5.2139), Point(x=4.8588, y=5.2139), Point(x=4.8588, y=6.0192), Point(x=3.3899, y=6.0192)]}]}, {'row_index': 2, 'column_index': 3, 'content': '2', 'bounding_regions': [{'page_number': 1, 'polygon': [Point(x=4.8588, y=5.2139), Point(x=6.2829, y=5.2139), Point(x=6.2904, y=6.0192), Point(x=4.8588, y=6.0192)]}]}, {'row_index': 2, 'column_index': 4, 'content': '', 'bounding_regions': [{'page_number': 1, 'polygon': [Point(x=6.2829, y=5.2139), Point(x=7.7295, y=5.2139), Point(x=7.7295, y=6.0192), Point(x=6.2904, y=6.0192)]}]}, {'row_index': 3, 'column_index': 0, 'content': 'Akku (halbe Baulänge)', 'bounding_regions': [{'page_number': 1, 'polygon': [Point(x=0.4969, y=6.0192), Point(x=1.9583, y=6.0192), Point(x=1.9583, y=6.489), Point(x=0.4969, y=6.4741)]}]}, {'row_index': 3, 'column_index': 1, 'content': 'Handballenstützen- Baugruppe', 'bounding_regions': [{'page_number': 1, 'polygon': [Point(x=1.9583, y=6.0192), Point(x=3.3899, y=6.0192), Point(x=3.3899, y=6.489), Point(x=1.9583, y=6.489)]}]}, {'row_index': 3, 'column_index': 2, 'content': 'M2×4', 'bounding_regions': [{'page_number': 1, 'polygon': [Point(x=3.3899, y=6.0192), Point(x=4.8588, y=6.0192), Point(x=4.8588, y=6.489), Point(x=3.3899, y=6.489)]}]}, {'row_index': 3, 'column_index': 3, 'content': '4', 'bounding_regions': [{'page_number': 1, 'polygon': [Point(x=4.8588, y=6.0192), Point(x=6.2904, y=6.0192), Point(x=6.2904, y=6.489), Point(x=4.8588, y=6.489)]}]}, {'row_index': 3, 'column_index': 4, 'content': '', 'bounding_regions': [{'page_number': 1, 'polygon': [Point(x=6.2904, y=6.0192), Point(x=7.7295, y=6.0192), Point(x=7.7295, y=6.489), Point(x=6.2904, y=6.489)]}]}, {'row_index': 4, 'column_index': 0, 'content': 'Akku (volle Baulänge)', 'bounding_regions': [{'page_number': 1, 'polygon': [Point(x=0.4969, y=6.4741), Point(x=1.9583, y=6.489), Point(x=1.9583, y=6.9514), Point(x=0.4969, y=6.9439)]}]}, {'row_index': 4, 'column_index': 1, 'content': 'Handballenstützen- Baugruppe', 'bounding_regions': [{'page_number': 1, 'polygon': [Point(x=1.9583, y=6.489), Point(x=3.3899, y=6.489), Point(x=3.3899, y=6.9514), Point(x=1.9583, y=6.9514)]}]}, {'row_index': 4, 'column_index': 2, 'content': 'M2×4', 'bounding_regions': [{'page_number': 1, 'polygon': [Point(x=3.3899, y=6.489), Point(x=4.8588, y=6.489), Point(x=4.8588, y=6.9439), Point(x=3.3899, y=6.9514)]}]}, {'row_index': 4, 'column_index': 3, 'content': '7', 'bounding_regions': [{'page_number': 1, 'polygon': [Point(x=4.8588, y=6.489), Point(x=6.2904, y=6.489), Point(x=6.2904, y=6.9514), Point(x=4.8588, y=6.9439)]}]}, {'row_index': 4, 'column_index': 4, 'content': '', 'bounding_regions': [{'page_number': 1, 'polygon': [Point(x=6.2904, y=6.489), Point(x=7.7295, y=6.489), Point(x=7.7369, y=6.9439), Point(x=6.2904, y=6.9514)]}]}, {'row_index': 5, 'column_index': 0, 'content': 'Laufwerksgehäuse', 'bounding_regions': [{'page_number': 1, 'polygon': [Point(x=0.4969, y=6.9439), Point(x=1.9583, y=6.9514), Point(x=1.9583, y=7.4211), Point(x=0.4969, y=7.4062)]}]}, {'row_index': 5, 'column_index': 1, 'content': 'Festplattenbaugruppe', 'bounding_regions': [{'page_number': 1, 'polygon': [Point(x=1.9583, y=6.9514), Point(x=3.3899, y=6.9514), Point(x=3.3899, y=7.4211), Point(x=1.9583, y=7.4211)]}]}, {'row_index': 5, 'column_index': 2, 'content': 'M2×4', 'bounding_regions': [{'page_number': 1, 'polygon': [Point(x=3.3899, y=6.9514), Point(x=4.8588, y=6.9439), Point(x=4.8588, y=7.4211), Point(x=3.3899, y=7.4211)]}]}, {'row_index': 5, 'column_index': 3, 'content': '4', 'bounding_regions': [{'page_number': 1, 'polygon': [Point(x=4.8588, y=6.9439), Point(x=6.2904, y=6.9514), Point(x=6.2904, y=7.4211), Point(x=4.8588, y=7.4211)]}]}, {'row_index': 5, 'column_index': 4, 'content': '', 'bounding_regions': [{'page_number': 1, 'polygon': [Point(x=6.2904, y=6.9514), Point(x=7.7369, y=6.9439), Point(x=7.7369, y=7.4211), Point(x=6.2904, y=7.4211)]}]}, {'row_index': 6, 'column_index': 0, 'content': 'SSD-Laufwerk (halbe Baulänge).', 'bounding_regions': [{'page_number': 1, 'polygon': [Point(x=0.4969, y=7.4062), Point(x=1.9583, y=7.4211), Point(x=1.9583, y=7.8238), Point(x=0.4969, y=7.8238)]}]}, {'row_index': 6, 'column_index': 1, 'content': 'Systemplatine', 'bounding_regions': [{'page_number': 1, 'polygon': [Point(x=1.9583, y=7.4211), Point(x=3.3899, y=7.4211), Point(x=3.3899, y=7.8238), Point(x=1.9583, y=7.8238)]}]}, {'row_index': 6, 'column_index': 2, 'content': 'M2×3', 'bounding_regions': [{'page_number': 1, 'polygon': [Point(x=3.3899, y=7.4211), Point(x=4.8588, y=7.4211), Point(x=4.8588, y=7.8238), Point(x=3.3899, y=7.8238)]}]}, {'row_index': 6, 'column_index': 3, 'content': '1', 'bounding_regions': [{'page_number': 1, 'polygon': [Point(x=4.8588, y=7.4211), Point(x=6.2904, y=7.4211), Point(x=6.2904, y=7.8238), Point(x=4.8588, y=7.8238)]}]}, {'row_index': 6, 'column_index': 4, 'content': '', 'bounding_regions': [{'page_number': 1, 'polygon': [Point(x=6.2904, y=7.4211), Point(x=7.7369, y=7.4211), Point(x=7.7369, y=7.8238), Point(x=6.2904, y=7.8238)]}]}, {'row_index': 7, 'column_index': 0, 'content': 'SSD-Laufwerk', 'bounding_regions': [{'page_number': 1, 'polygon': [Point(x=0.4969, y=7.8238), Point(x=1.9583, y=7.8238), Point(x=1.9583, y=8.2936), Point(x=0.4969, y=8.2936)]}]}, {'row_index': 7, 'column_index': 1, 'content': 'SSD-Laufwerkshalterung', 'bounding_regions': [{'page_number': 1, 'polygon': [Point(x=1.9583, y=7.8238), Point(x=3.3899, y=7.8238), Point(x=3.3899, y=8.2936), Point(x=1.9583, y=8.2936)]}]}, {'row_index': 7, 'column_index': 2, 'content': 'M2×2', 'bounding_regions': [{'page_number': 1, 'polygon': [Point(x=3.3899, y=7.8238), Point(x=4.8588, y=7.8238), Point(x=4.8588, y=8.2936), Point(x=3.3899, y=8.2936)]}]}, {'row_index': 7, 'column_index': 3, 'content': '1', 'bounding_regions': [{'page_number': 1, 'polygon': [Point(x=4.8588, y=7.8238), Point(x=6.2904, y=7.8238), Point(x=6.2904, y=8.2936), Point(x=4.8588, y=8.2936)]}]}, {'row_index': 7, 'column_index': 4, 'content': '', 'bounding_regions': [{'page_number': 1, 'polygon': [Point(x=6.2904, y=7.8238), Point(x=7.7369, y=7.8238), Point(x=7.7369, y=8.2936), Point(x=6.2904, y=8.2936)]}]}, {'row_index': 8, 'column_index': 0, 'content': 'SSD-Laufwerk (volle Baulänge)', 'bounding_regions': [{'page_number': 1, 'polygon': [Point(x=0.4969, y=8.2936), Point(x=1.9583, y=8.2936), Point(x=1.9583, y=8.7037), Point(x=0.4969, y=8.7037)]}]}, {'row_index': 8, 'column_index': 1, 'content': 'Systemplatine', 'bounding_regions': [{'page_number': 1, 'polygon': [Point(x=1.9583, y=8.2936), Point(x=3.3899, y=8.2936), Point(x=3.3899, y=8.7037), Point(x=1.9583, y=8.7037)]}]}, {'row_index': 8, 'column_index': 2, 'content': 'M2×3', 'bounding_regions': [{'page_number': 1, 'polygon': [Point(x=3.3899, y=8.2936), Point(x=4.8588, y=8.2936), Point(x=4.8588, y=8.7037), Point(x=3.3899, y=8.7037)]}]}, {'row_index': 8, 'column_index': 3, 'content': '1', 'bounding_regions': [{'page_number': 1, 'polygon': [Point(x=4.8588, y=8.2936), Point(x=6.2904, y=8.2936), Point(x=6.2904, y=8.7037), Point(x=4.8588, y=8.7037)]}]}, {'row_index': 8, 'column_index': 4, 'content': '', 'bounding_regions': [{'page_number': 1, 'polygon': [Point(x=6.2904, y=8.2936), Point(x=7.7369, y=8.2936), Point(x=7.7369, y=8.7037), Point(x=6.2904, y=8.7037)]}]}, {'row_index': 9, 'column_index': 0, 'content': 'Lautsprecher', 'bounding_regions': [{'page_number': 1, 'polygon': [Point(x=0.4969, y=8.7037), Point(x=1.9583, y=8.7037), Point(x=1.9658, y=9.1213), Point(x=0.4969, y=9.1064)]}]}, {'row_index': 9, 'column_index': 1, 'content': 'Handballenstützen- Baugruppe', 'bounding_regions': [{'page_number': 1, 'polygon': [Point(x=1.9583, y=8.7037), Point(x=3.3899, y=8.7037), Point(x=3.3899, y=9.1213), Point(x=1.9658, y=9.1213)]}]}, {'row_index': 9, 'column_index': 2, 'content': 'M2×2', 'bounding_regions': [{'page_number': 1, 'polygon': [Point(x=3.3899, y=8.7037), Point(x=4.8588, y=8.7037), Point(x=4.8588, y=9.1213), Point(x=3.3899, y=9.1213)]}]}, {'row_index': 9, 'column_index': 3, 'content': '4', 'bounding_regions': [{'page_number': 1, 'polygon': [Point(x=4.8588, y=8.7037), Point(x=6.2904, y=8.7037), Point(x=6.2978, y=9.1213), Point(x=4.8588, y=9.1213)]}]}, {'row_index': 9, 'column_index': 4, 'content': '', 'bounding_regions': [{'page_number': 1, 'polygon': [Point(x=6.2904, y=8.7037), Point(x=7.7369, y=8.7037), Point(x=7.7369, y=9.1213), Point(x=6.2978, y=9.1213)]}]}, {'row_index': 10, 'column_index': 0, 'content': 'Lüfter', 'bounding_regions': [{'page_number': 1, 'polygon': [Point(x=0.4969, y=9.1064), Point(x=1.9658, y=9.1213), Point(x=1.9658, y=9.5911), Point(x=0.4969, y=9.5911)]}]}, {'row_index': 10, 'column_index': 1, 'content': 'Systemplatine', 'bounding_regions': [{'page_number': 1, 'polygon': [Point(x=1.9658, y=9.1213), Point(x=3.3899, y=9.1213), Point(x=3.3899, y=9.5911), Point(x=1.9658, y=9.5911)]}]}, {'row_index': 10, 'column_index': 2, 'content': 'M2×4', 'bounding_regions': [{'page_number': 1, 'polygon': [Point(x=3.3899, y=9.1213), Point(x=4.8588, y=9.1213), Point(x=4.8588, y=9.5911), Point(x=3.3899, y=9.5911)]}]}, {'row_index': 10, 'column_index': 3, 'content': '4', 'bounding_regions': [{'page_number': 1, 'polygon': [Point(x=4.8588, y=9.1213), Point(x=6.2978, y=9.1213), Point(x=6.2978, y=9.5911), Point(x=4.8588, y=9.5911)]}]}, {'row_index': 10, 'column_index': 4, 'content': '', 'bounding_regions': [{'page_number': 1, 'polygon': [Point(x=6.2978, y=9.1213), Point(x=7.7369, y=9.1213), Point(x=7.7369, y=9.5911), Point(x=6.2978, y=9.5911)]}]}, {'row_index': 11, 'column_index': 0, 'content': 'Kühlkörperbaugruppe', 'bounding_regions': [{'page_number': 1, 'polygon': [Point(x=0.4969, y=9.5911), Point(x=1.9658, y=9.5911), Point(x=1.9658, y=10.0012), Point(x=0.4894, y=9.9863)]}]}, {'row_index': 11, 'column_index': 1, 'content': 'Systemplatine', 'bounding_regions': [{'page_number': 1, 'polygon': [Point(x=1.9658, y=9.5911), Point(x=3.3899, y=9.5911), Point(x=3.3899, y=10.0012), Point(x=1.9658, y=10.0012)]}]}, {'row_index': 11, 'column_index': 2, 'content': 'M2×3', 'bounding_regions': [{'page_number': 1, 'polygon': [Point(x=3.3899, y=9.5911), Point(x=4.8588, y=9.5911), Point(x=4.8588, y=9.9938), Point(x=3.3899, y=10.0012)]}]}, {'row_index': 11, 'column_index': 3, 'content': '5, 4', 'bounding_regions': [{'page_number': 1, 'polygon': [Point(x=4.8588, y=9.5911), Point(x=6.2978, y=9.5911), Point(x=6.2978, y=10.0012), Point(x=4.8588, y=9.9938)]}]}, {'row_index': 11, 'column_index': 4, 'content': '', 'bounding_regions': [{'page_number': 1, 'polygon': [Point(x=6.2978, y=9.5911), Point(x=7.7369, y=9.5911), Point(x=7.7369, y=10.0012), Point(x=6.2978, y=10.0012)]}]}, {'row_index': 12, 'column_index': 0, 'content': 'Bildschirmkabelhalterung', 'bounding_regions': [{'page_number': 1, 'polygon': [Point(x=0.4894, y=9.9863), Point(x=1.9658, y=10.0012), Point(x=1.9658, y=10.3219), Point(x=0.4894, y=10.3293)]}]}, {'row_index': 12, 'column_index': 1, 'content': 'Systemplatine', 'bounding_regions': [{'page_number': 1, 'polygon': [Point(x=1.9658, y=10.0012), Point(x=3.3899, y=10.0012), Point(x=3.3899, y=10.3219), Point(x=1.9658, y=10.3219)]}]}, {'row_index': 12, 'column_index': 2, 'content': 'M2×2', 'bounding_regions': [{'page_number': 1, 'polygon': [Point(x=3.3899, y=10.0012), Point(x=4.8588, y=9.9938), Point(x=4.8588, y=10.3219), Point(x=3.3899, y=10.3219)]}]}, {'row_index': 12, 'column_index': 3, 'content': '1 1', 'bounding_regions': [{'page_number': 1, 'polygon': [Point(x=4.8588, y=9.9938), Point(x=6.2978, y=10.0012), Point(x=6.2978, y=10.3219), Point(x=4.8588, y=10.3219)]}]}, {'row_index': 12, 'column_index': 4, 'content': '', 'bounding_regions': [{'page_number': 1, 'polygon': [Point(x=6.2978, y=10.0012), Point(x=7.7369, y=10.0012), Point(x=7.7369, y=10.3219), Point(x=6.2978, y=10.3219)]}]}]}]\n"
     ]
    }
   ],
   "source": [
    "# Extract and save text\n",
    "text_data = extract_text(result)\n",
    "save_json(text_data, os.path.join(base_path, \"text.json\"))\n",
    "\n",
    "# Extract and save structures\n",
    "structure_data = extract_structure(result)\n",
    "save_json(structure_data, os.path.join(base_path, \"structures.json\"))\n",
    "\n",
    "# Extract and save tables\n",
    "table_data = extract_tables(result)\n",
    "print(table_data)\n",
    "save_json(table_data, os.path.join(base_path, \"tables.json\"))\n",
    "\n",
    "# Combine all extracted data into one JSON\n",
    "document_data = {\n",
    "    \"text\": text_data,\n",
    "    \"structures\": structure_data,\n",
    "    \"tables\": table_data\n",
    "}\n",
    "save_json(document_data, os.path.join(base_path, \"document.json\"))"
   ]
  }
 ],
 "metadata": {
  "kernelspec": {
   "display_name": "Python 3 (ipykernel)",
   "language": "python",
   "name": "python3"
  },
  "language_info": {
   "codemirror_mode": {
    "name": "ipython",
    "version": 3
   },
   "file_extension": ".py",
   "mimetype": "text/x-python",
   "name": "python",
   "nbconvert_exporter": "python",
   "pygments_lexer": "ipython3",
   "version": "3.10.13"
  }
 },
 "nbformat": 4,
 "nbformat_minor": 5
}
